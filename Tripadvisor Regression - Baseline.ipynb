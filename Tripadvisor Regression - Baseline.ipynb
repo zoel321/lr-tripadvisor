{
 "cells": [
  {
   "cell_type": "markdown",
   "id": "e20c3359",
   "metadata": {},
   "source": [
    "### MVP Summary"
   ]
  },
  {
   "cell_type": "markdown",
   "id": "24925586",
   "metadata": {},
   "source": [
    "This MVP is my baseline model for predicting Tripadvisor hotel ratings for featured destinations in Australia. \n",
    "\n",
    "Almost 75% of the Featured Price (price/night) data were missing, so I compared whether a baseline model with missing prices imputed using linear regression (using rating and review number data) would perform better than a model with missing prices imputed with the median price.\n",
    "\n",
    "The features I included for the baseline models were: price per night ('Featured Price'), the hotel class ('Hotel Star Class'), and the number of reviews ('Number of Reviews'). \n",
    "\n",
    "OLS using LR-imputed price\n",
    "Train:  0.098\n",
    "Val:  0.151\n",
    "\n",
    "OLS using median-imputed price\n",
    "Train:  0.016\n",
    "Val:  0.029\n",
    "\n",
    "\n",
    "Although the R^2 values for both models were low, the model with the price imputed using linear regression performed slightly better, so I would iterate on this model. \n",
    "\n",
    "Future steps include using feature engineering to allow the categorical variables to be considered as features, as well as resolving missing values for the other numerical data.\n"
   ]
  },
  {
   "cell_type": "code",
   "execution_count": 105,
   "id": "fd3fa986",
   "metadata": {},
   "outputs": [],
   "source": [
    "import pandas as pd"
   ]
  },
  {
   "cell_type": "code",
   "execution_count": 106,
   "id": "f61f7319",
   "metadata": {},
   "outputs": [],
   "source": [
    "import pickle\n",
    "df = pd.read_pickle('cleaned_df')"
   ]
  },
  {
   "cell_type": "code",
   "execution_count": 107,
   "id": "72fab046",
   "metadata": {
    "scrolled": true
   },
   "outputs": [
    {
     "data": {
      "text/plain": [
       "(1309, 22)"
      ]
     },
     "execution_count": 107,
     "metadata": {},
     "output_type": "execute_result"
    }
   ],
   "source": [
    "df.shape"
   ]
  },
  {
   "cell_type": "code",
   "execution_count": 108,
   "id": "4493173c",
   "metadata": {
    "scrolled": true
   },
   "outputs": [
    {
     "name": "stdout",
     "output_type": "stream",
     "text": [
      "<class 'pandas.core.frame.DataFrame'>\n",
      "Int64Index: 1309 entries, 0 to 2756\n",
      "Data columns (total 22 columns):\n",
      " #   Column                 Non-Null Count  Dtype  \n",
      "---  ------                 --------------  -----  \n",
      " 0   Name                   1309 non-null   object \n",
      " 1   Featured Price         1309 non-null   object \n",
      " 2   Category               1309 non-null   object \n",
      " 3   Page Name              1309 non-null   object \n",
      " 4   Tripadvisor Rating     1309 non-null   float64\n",
      " 5   Address                1309 non-null   object \n",
      " 6   Property Amenities     1309 non-null   object \n",
      " 7   Room Features          1309 non-null   object \n",
      " 8   Room Types             1309 non-null   object \n",
      " 9   Hotel Style            1309 non-null   object \n",
      " 10  Languages              1309 non-null   object \n",
      " 11  Hotel Star Class       1309 non-null   object \n",
      " 12  Car/Walkability        1309 non-null   object \n",
      " 13  Restaurants Proximity  1309 non-null   object \n",
      " 14  Attractions Proximity  1309 non-null   object \n",
      " 15  Number of Reviews      1309 non-null   int64  \n",
      " 16  Covid Precautions      1309 non-null   object \n",
      " 17  Travel Destination     1309 non-null   object \n",
      " 18  Restaurants/Mile       1309 non-null   object \n",
      " 19  Attractions/Mile       1309 non-null   object \n",
      " 20  Zip Code               1309 non-null   object \n",
      " 21  Walk Score             1309 non-null   object \n",
      "dtypes: float64(1), int64(1), object(20)\n",
      "memory usage: 235.2+ KB\n"
     ]
    }
   ],
   "source": [
    "df.info()"
   ]
  },
  {
   "cell_type": "code",
   "execution_count": 109,
   "id": "602df57d",
   "metadata": {},
   "outputs": [],
   "source": [
    "smaller_df = df.loc[:,['Featured Price','Tripadvisor Rating', 'Number of Reviews']]"
   ]
  },
  {
   "cell_type": "markdown",
   "id": "eecfa29f",
   "metadata": {},
   "source": [
    "#### Model 1 - Impute price by linear regression"
   ]
  },
  {
   "cell_type": "code",
   "execution_count": 110,
   "id": "84816359",
   "metadata": {},
   "outputs": [],
   "source": [
    "test_data = smaller_df[smaller_df['Featured Price'] == 'empty']"
   ]
  },
  {
   "cell_type": "code",
   "execution_count": 111,
   "id": "296b0d8b",
   "metadata": {},
   "outputs": [
    {
     "data": {
      "text/html": [
       "<div>\n",
       "<style scoped>\n",
       "    .dataframe tbody tr th:only-of-type {\n",
       "        vertical-align: middle;\n",
       "    }\n",
       "\n",
       "    .dataframe tbody tr th {\n",
       "        vertical-align: top;\n",
       "    }\n",
       "\n",
       "    .dataframe thead th {\n",
       "        text-align: right;\n",
       "    }\n",
       "</style>\n",
       "<table border=\"1\" class=\"dataframe\">\n",
       "  <thead>\n",
       "    <tr style=\"text-align: right;\">\n",
       "      <th></th>\n",
       "      <th>Featured Price</th>\n",
       "      <th>Tripadvisor Rating</th>\n",
       "      <th>Number of Reviews</th>\n",
       "    </tr>\n",
       "  </thead>\n",
       "  <tbody>\n",
       "    <tr>\n",
       "      <th>51</th>\n",
       "      <td>empty</td>\n",
       "      <td>5.0</td>\n",
       "      <td>182</td>\n",
       "    </tr>\n",
       "    <tr>\n",
       "      <th>53</th>\n",
       "      <td>empty</td>\n",
       "      <td>5.0</td>\n",
       "      <td>156</td>\n",
       "    </tr>\n",
       "    <tr>\n",
       "      <th>55</th>\n",
       "      <td>empty</td>\n",
       "      <td>5.0</td>\n",
       "      <td>250</td>\n",
       "    </tr>\n",
       "    <tr>\n",
       "      <th>57</th>\n",
       "      <td>empty</td>\n",
       "      <td>5.0</td>\n",
       "      <td>634</td>\n",
       "    </tr>\n",
       "    <tr>\n",
       "      <th>59</th>\n",
       "      <td>empty</td>\n",
       "      <td>5.0</td>\n",
       "      <td>242</td>\n",
       "    </tr>\n",
       "    <tr>\n",
       "      <th>...</th>\n",
       "      <td>...</td>\n",
       "      <td>...</td>\n",
       "      <td>...</td>\n",
       "    </tr>\n",
       "    <tr>\n",
       "      <th>2740</th>\n",
       "      <td>empty</td>\n",
       "      <td>3.0</td>\n",
       "      <td>6</td>\n",
       "    </tr>\n",
       "    <tr>\n",
       "      <th>2741</th>\n",
       "      <td>empty</td>\n",
       "      <td>2.5</td>\n",
       "      <td>4</td>\n",
       "    </tr>\n",
       "    <tr>\n",
       "      <th>2742</th>\n",
       "      <td>empty</td>\n",
       "      <td>1.5</td>\n",
       "      <td>7</td>\n",
       "    </tr>\n",
       "    <tr>\n",
       "      <th>2753</th>\n",
       "      <td>empty</td>\n",
       "      <td>3.5</td>\n",
       "      <td>39</td>\n",
       "    </tr>\n",
       "    <tr>\n",
       "      <th>2756</th>\n",
       "      <td>empty</td>\n",
       "      <td>2.0</td>\n",
       "      <td>1</td>\n",
       "    </tr>\n",
       "  </tbody>\n",
       "</table>\n",
       "<p>918 rows × 3 columns</p>\n",
       "</div>"
      ],
      "text/plain": [
       "     Featured Price  Tripadvisor Rating  Number of Reviews\n",
       "51            empty                 5.0                182\n",
       "53            empty                 5.0                156\n",
       "55            empty                 5.0                250\n",
       "57            empty                 5.0                634\n",
       "59            empty                 5.0                242\n",
       "...             ...                 ...                ...\n",
       "2740          empty                 3.0                  6\n",
       "2741          empty                 2.5                  4\n",
       "2742          empty                 1.5                  7\n",
       "2753          empty                 3.5                 39\n",
       "2756          empty                 2.0                  1\n",
       "\n",
       "[918 rows x 3 columns]"
      ]
     },
     "execution_count": 111,
     "metadata": {},
     "output_type": "execute_result"
    }
   ],
   "source": [
    "test_data #n=918"
   ]
  },
  {
   "cell_type": "code",
   "execution_count": 112,
   "id": "9a453cb6",
   "metadata": {},
   "outputs": [],
   "source": [
    "train_data = smaller_df[smaller_df['Featured Price'] != 'empty']"
   ]
  },
  {
   "cell_type": "code",
   "execution_count": 113,
   "id": "75bfdc5c",
   "metadata": {},
   "outputs": [
    {
     "data": {
      "text/html": [
       "<div>\n",
       "<style scoped>\n",
       "    .dataframe tbody tr th:only-of-type {\n",
       "        vertical-align: middle;\n",
       "    }\n",
       "\n",
       "    .dataframe tbody tr th {\n",
       "        vertical-align: top;\n",
       "    }\n",
       "\n",
       "    .dataframe thead th {\n",
       "        text-align: right;\n",
       "    }\n",
       "</style>\n",
       "<table border=\"1\" class=\"dataframe\">\n",
       "  <thead>\n",
       "    <tr style=\"text-align: right;\">\n",
       "      <th></th>\n",
       "      <th>Featured Price</th>\n",
       "      <th>Tripadvisor Rating</th>\n",
       "      <th>Number of Reviews</th>\n",
       "    </tr>\n",
       "  </thead>\n",
       "  <tbody>\n",
       "    <tr>\n",
       "      <th>0</th>\n",
       "      <td>84.0</td>\n",
       "      <td>4.5</td>\n",
       "      <td>373</td>\n",
       "    </tr>\n",
       "    <tr>\n",
       "      <th>2</th>\n",
       "      <td>123.0</td>\n",
       "      <td>4.5</td>\n",
       "      <td>541</td>\n",
       "    </tr>\n",
       "    <tr>\n",
       "      <th>4</th>\n",
       "      <td>106.0</td>\n",
       "      <td>4.5</td>\n",
       "      <td>369</td>\n",
       "    </tr>\n",
       "    <tr>\n",
       "      <th>6</th>\n",
       "      <td>183.0</td>\n",
       "      <td>4.5</td>\n",
       "      <td>275</td>\n",
       "    </tr>\n",
       "    <tr>\n",
       "      <th>7</th>\n",
       "      <td>173.0</td>\n",
       "      <td>5.0</td>\n",
       "      <td>345</td>\n",
       "    </tr>\n",
       "    <tr>\n",
       "      <th>...</th>\n",
       "      <td>...</td>\n",
       "      <td>...</td>\n",
       "      <td>...</td>\n",
       "    </tr>\n",
       "    <tr>\n",
       "      <th>2636</th>\n",
       "      <td>150.0</td>\n",
       "      <td>3.5</td>\n",
       "      <td>1261</td>\n",
       "    </tr>\n",
       "    <tr>\n",
       "      <th>2639</th>\n",
       "      <td>100.0</td>\n",
       "      <td>4.5</td>\n",
       "      <td>98</td>\n",
       "    </tr>\n",
       "    <tr>\n",
       "      <th>2658</th>\n",
       "      <td>124.0</td>\n",
       "      <td>4.0</td>\n",
       "      <td>5</td>\n",
       "    </tr>\n",
       "    <tr>\n",
       "      <th>2659</th>\n",
       "      <td>196.0</td>\n",
       "      <td>5.0</td>\n",
       "      <td>1</td>\n",
       "    </tr>\n",
       "    <tr>\n",
       "      <th>2665</th>\n",
       "      <td>150.0</td>\n",
       "      <td>5.0</td>\n",
       "      <td>132</td>\n",
       "    </tr>\n",
       "  </tbody>\n",
       "</table>\n",
       "<p>391 rows × 3 columns</p>\n",
       "</div>"
      ],
      "text/plain": [
       "     Featured Price  Tripadvisor Rating  Number of Reviews\n",
       "0              84.0                 4.5                373\n",
       "2             123.0                 4.5                541\n",
       "4             106.0                 4.5                369\n",
       "6             183.0                 4.5                275\n",
       "7             173.0                 5.0                345\n",
       "...             ...                 ...                ...\n",
       "2636          150.0                 3.5               1261\n",
       "2639          100.0                 4.5                 98\n",
       "2658          124.0                 4.0                  5\n",
       "2659          196.0                 5.0                  1\n",
       "2665          150.0                 5.0                132\n",
       "\n",
       "[391 rows x 3 columns]"
      ]
     },
     "execution_count": 113,
     "metadata": {},
     "output_type": "execute_result"
    }
   ],
   "source": [
    "train_data #n=391"
   ]
  },
  {
   "cell_type": "code",
   "execution_count": 114,
   "id": "5d33c10a",
   "metadata": {
    "scrolled": false
   },
   "outputs": [
    {
     "name": "stderr",
     "output_type": "stream",
     "text": [
      "/var/folders/__/04d0437x46368yx2gw6qf2km0000gn/T/ipykernel_2768/2557754362.py:1: SettingWithCopyWarning: \n",
      "A value is trying to be set on a copy of a slice from a DataFrame.\n",
      "Try using .loc[row_indexer,col_indexer] = value instead\n",
      "\n",
      "See the caveats in the documentation: https://pandas.pydata.org/pandas-docs/stable/user_guide/indexing.html#returning-a-view-versus-a-copy\n",
      "  train_data['Featured Price'] = train_data['Featured Price'].apply(lambda x: float(x))\n"
     ]
    }
   ],
   "source": [
    "train_data['Featured Price'] = train_data['Featured Price'].apply(lambda x: float(x))"
   ]
  },
  {
   "cell_type": "code",
   "execution_count": 115,
   "id": "dadeb1c7",
   "metadata": {
    "scrolled": false
   },
   "outputs": [
    {
     "name": "stdout",
     "output_type": "stream",
     "text": [
      "<class 'pandas.core.frame.DataFrame'>\n",
      "Int64Index: 391 entries, 0 to 2665\n",
      "Data columns (total 3 columns):\n",
      " #   Column              Non-Null Count  Dtype  \n",
      "---  ------              --------------  -----  \n",
      " 0   Featured Price      391 non-null    float64\n",
      " 1   Tripadvisor Rating  391 non-null    float64\n",
      " 2   Number of Reviews   391 non-null    int64  \n",
      "dtypes: float64(2), int64(1)\n",
      "memory usage: 12.2 KB\n"
     ]
    }
   ],
   "source": [
    "train_data.info()"
   ]
  },
  {
   "cell_type": "code",
   "execution_count": 116,
   "id": "4806abe5",
   "metadata": {},
   "outputs": [],
   "source": [
    "y_train = train_data['Featured Price']"
   ]
  },
  {
   "cell_type": "code",
   "execution_count": 117,
   "id": "b9503a75",
   "metadata": {},
   "outputs": [
    {
     "data": {
      "text/plain": [
       "(391,)"
      ]
     },
     "execution_count": 117,
     "metadata": {},
     "output_type": "execute_result"
    }
   ],
   "source": [
    "y_train.shape"
   ]
  },
  {
   "cell_type": "code",
   "execution_count": 118,
   "id": "39547ebc",
   "metadata": {},
   "outputs": [],
   "source": [
    "X_train = train_data.drop('Featured Price', axis=1)"
   ]
  },
  {
   "cell_type": "code",
   "execution_count": 119,
   "id": "057eda63",
   "metadata": {},
   "outputs": [
    {
     "data": {
      "text/plain": [
       "(391, 2)"
      ]
     },
     "execution_count": 119,
     "metadata": {},
     "output_type": "execute_result"
    }
   ],
   "source": [
    "X_train.shape"
   ]
  },
  {
   "cell_type": "code",
   "execution_count": 120,
   "id": "c6ddfaf4",
   "metadata": {},
   "outputs": [],
   "source": [
    "from sklearn.linear_model import LinearRegression"
   ]
  },
  {
   "cell_type": "code",
   "execution_count": 121,
   "id": "e0548546",
   "metadata": {},
   "outputs": [],
   "source": [
    "lr = LinearRegression()"
   ]
  },
  {
   "cell_type": "code",
   "execution_count": 122,
   "id": "5ca9069e",
   "metadata": {},
   "outputs": [
    {
     "data": {
      "text/plain": [
       "LinearRegression()"
      ]
     },
     "execution_count": 122,
     "metadata": {},
     "output_type": "execute_result"
    }
   ],
   "source": [
    "lr.fit(X_train, y_train)"
   ]
  },
  {
   "cell_type": "code",
   "execution_count": 123,
   "id": "9e1b43a4",
   "metadata": {},
   "outputs": [],
   "source": [
    "X_test = test_data.drop('Featured Price', axis=1)"
   ]
  },
  {
   "cell_type": "code",
   "execution_count": 124,
   "id": "acc0911b",
   "metadata": {},
   "outputs": [],
   "source": [
    "y_pred = lr.predict(X_test)"
   ]
  },
  {
   "cell_type": "code",
   "execution_count": 125,
   "id": "d026d9d3",
   "metadata": {},
   "outputs": [],
   "source": [
    "lr_impute_df = df.copy()"
   ]
  },
  {
   "cell_type": "code",
   "execution_count": 126,
   "id": "e4831dd4",
   "metadata": {},
   "outputs": [],
   "source": [
    "lr_impute_df.loc[lr_impute_df[\"Featured Price\"] == 'empty', \"Featured Price\"] = y_pred"
   ]
  },
  {
   "cell_type": "code",
   "execution_count": 127,
   "id": "07e6aaee",
   "metadata": {},
   "outputs": [
    {
     "data": {
      "text/html": [
       "<div>\n",
       "<style scoped>\n",
       "    .dataframe tbody tr th:only-of-type {\n",
       "        vertical-align: middle;\n",
       "    }\n",
       "\n",
       "    .dataframe tbody tr th {\n",
       "        vertical-align: top;\n",
       "    }\n",
       "\n",
       "    .dataframe thead th {\n",
       "        text-align: right;\n",
       "    }\n",
       "</style>\n",
       "<table border=\"1\" class=\"dataframe\">\n",
       "  <thead>\n",
       "    <tr style=\"text-align: right;\">\n",
       "      <th></th>\n",
       "      <th>Name</th>\n",
       "      <th>Featured Price</th>\n",
       "      <th>Category</th>\n",
       "      <th>Page Name</th>\n",
       "      <th>Tripadvisor Rating</th>\n",
       "      <th>Address</th>\n",
       "      <th>Property Amenities</th>\n",
       "      <th>Room Features</th>\n",
       "      <th>Room Types</th>\n",
       "      <th>Hotel Style</th>\n",
       "      <th>...</th>\n",
       "      <th>Car/Walkability</th>\n",
       "      <th>Restaurants Proximity</th>\n",
       "      <th>Attractions Proximity</th>\n",
       "      <th>Number of Reviews</th>\n",
       "      <th>Covid Precautions</th>\n",
       "      <th>Travel Destination</th>\n",
       "      <th>Restaurants/Mile</th>\n",
       "      <th>Attractions/Mile</th>\n",
       "      <th>Zip Code</th>\n",
       "      <th>Walk Score</th>\n",
       "    </tr>\n",
       "  </thead>\n",
       "  <tbody>\n",
       "    <tr>\n",
       "      <th>0</th>\n",
       "      <td>Tropicana Motor Inn</td>\n",
       "      <td>84.0</td>\n",
       "      <td>Hostel</td>\n",
       "      <td>Tropicana Motor Inn</td>\n",
       "      <td>4.5</td>\n",
       "      <td>22-26 Osbourne Ave, Cowes, Phillip Island, Vic...</td>\n",
       "      <td>['Free parking', 'Free internet', 'Pool', 'Bre...</td>\n",
       "      <td>['Air conditioning', 'Seating area', 'Iron', '...</td>\n",
       "      <td>['Non-smoking rooms', 'Family rooms']</td>\n",
       "      <td>['Business', 'Family']</td>\n",
       "      <td>...</td>\n",
       "      <td>60Somewhat walkableGrade: 60 out of 100</td>\n",
       "      <td>22 Restaurants within 0.3 miles</td>\n",
       "      <td>3 Attractions within 0.3 miles</td>\n",
       "      <td>373</td>\n",
       "      <td>['All linens sanitized in high-temperature was...</td>\n",
       "      <td>Cowes</td>\n",
       "      <td>73.33</td>\n",
       "      <td>10.0</td>\n",
       "      <td>Victoria 3922 Australia</td>\n",
       "      <td>60</td>\n",
       "    </tr>\n",
       "    <tr>\n",
       "      <th>2</th>\n",
       "      <td>Kaloha Holiday Resort</td>\n",
       "      <td>123.0</td>\n",
       "      <td>Bed and Breakfast</td>\n",
       "      <td>Kaloha Holiday Resort</td>\n",
       "      <td>4.5</td>\n",
       "      <td>Cnr Steele and Chapel Streets, Cowes, Phillip ...</td>\n",
       "      <td>['Free parking', 'Free High Speed Internet (Wi...</td>\n",
       "      <td>['Blackout curtains', 'Air conditioning', 'Hou...</td>\n",
       "      <td>['Non-smoking rooms', 'Suites', 'Family rooms']</td>\n",
       "      <td>['Mid-range']</td>\n",
       "      <td>...</td>\n",
       "      <td>60Somewhat walkableGrade: 60 out of 100</td>\n",
       "      <td>31 Restaurants within 0.3 miles</td>\n",
       "      <td>5 Attractions within 0.3 miles</td>\n",
       "      <td>541</td>\n",
       "      <td>['Hand sanitizer available to guests &amp; staff']</td>\n",
       "      <td>Cowes</td>\n",
       "      <td>103.33</td>\n",
       "      <td>16.67</td>\n",
       "      <td>Victoria 3922 Australia</td>\n",
       "      <td>60</td>\n",
       "    </tr>\n",
       "    <tr>\n",
       "      <th>4</th>\n",
       "      <td>Amaroo Park</td>\n",
       "      <td>106.0</td>\n",
       "      <td>Condominium</td>\n",
       "      <td>Amaroo Park</td>\n",
       "      <td>4.5</td>\n",
       "      <td>97 Church St, Cowes, Phillip Island, Victoria ...</td>\n",
       "      <td>['Free parking', 'Free High Speed Internet (Wi...</td>\n",
       "      <td>['Private balcony', 'Kitchenette', 'Kitchenwar...</td>\n",
       "      <td>['Non-smoking rooms']</td>\n",
       "      <td>['Family', 'Centrally Located']</td>\n",
       "      <td>...</td>\n",
       "      <td>65Somewhat walkableGrade: 65 out of 100</td>\n",
       "      <td>33 Restaurants within 0.3 miles</td>\n",
       "      <td>5 Attractions within 0.3 miles</td>\n",
       "      <td>369</td>\n",
       "      <td>[]</td>\n",
       "      <td>Cowes</td>\n",
       "      <td>110.0</td>\n",
       "      <td>16.67</td>\n",
       "      <td>Victoria 3922 Australia</td>\n",
       "      <td>65</td>\n",
       "    </tr>\n",
       "    <tr>\n",
       "      <th>6</th>\n",
       "      <td>The Waves Apartments</td>\n",
       "      <td>183.0</td>\n",
       "      <td>Condominium</td>\n",
       "      <td>The Waves Apartments</td>\n",
       "      <td>4.5</td>\n",
       "      <td>No. 1 The Esplanade P.O. Box 108, Cowes, Phill...</td>\n",
       "      <td>['Free parking', 'Parking garage', 'Wifi', 'Pa...</td>\n",
       "      <td>['Air conditioning', 'Desk', 'Private balcony'...</td>\n",
       "      <td>['Ocean view', 'Non-smoking rooms', 'Suites']</td>\n",
       "      <td>['Bay View', 'Great View']</td>\n",
       "      <td>...</td>\n",
       "      <td>67Somewhat walkableGrade: 67 out of 100</td>\n",
       "      <td>40 Restaurants within 0.3 miles</td>\n",
       "      <td>4 Attractions within 0.3 miles</td>\n",
       "      <td>275</td>\n",
       "      <td>[]</td>\n",
       "      <td>Cowes</td>\n",
       "      <td>133.33</td>\n",
       "      <td>13.33</td>\n",
       "      <td>Victoria 3922 Australia</td>\n",
       "      <td>67</td>\n",
       "    </tr>\n",
       "    <tr>\n",
       "      <th>7</th>\n",
       "      <td>Glen Isla House</td>\n",
       "      <td>173.0</td>\n",
       "      <td>Specialty Hotel</td>\n",
       "      <td>Glen Isla House</td>\n",
       "      <td>5.0</td>\n",
       "      <td>230 Church St, Cowes, Phillip Island, Victoria...</td>\n",
       "      <td>['Free parking', 'Secured parking', 'Free High...</td>\n",
       "      <td>['Blackout curtains', 'Air conditioning', 'Fir...</td>\n",
       "      <td>['Non-smoking rooms']</td>\n",
       "      <td>['Hidden Gem', 'Charming']</td>\n",
       "      <td>...</td>\n",
       "      <td>empty</td>\n",
       "      <td>empty</td>\n",
       "      <td>empty</td>\n",
       "      <td>345</td>\n",
       "      <td>['All linens sanitized in high-temperature was...</td>\n",
       "      <td>Cowes</td>\n",
       "      <td>empty</td>\n",
       "      <td>empty</td>\n",
       "      <td>Victoria 3922 Australia</td>\n",
       "      <td>empty</td>\n",
       "    </tr>\n",
       "  </tbody>\n",
       "</table>\n",
       "<p>5 rows × 22 columns</p>\n",
       "</div>"
      ],
      "text/plain": [
       "                    Name Featured Price           Category  \\\n",
       "0    Tropicana Motor Inn           84.0             Hostel   \n",
       "2  Kaloha Holiday Resort          123.0  Bed and Breakfast   \n",
       "4            Amaroo Park          106.0        Condominium   \n",
       "6   The Waves Apartments          183.0        Condominium   \n",
       "7        Glen Isla House          173.0    Specialty Hotel   \n",
       "\n",
       "               Page Name  Tripadvisor Rating  \\\n",
       "0    Tropicana Motor Inn                 4.5   \n",
       "2  Kaloha Holiday Resort                 4.5   \n",
       "4            Amaroo Park                 4.5   \n",
       "6   The Waves Apartments                 4.5   \n",
       "7        Glen Isla House                 5.0   \n",
       "\n",
       "                                             Address  \\\n",
       "0  22-26 Osbourne Ave, Cowes, Phillip Island, Vic...   \n",
       "2  Cnr Steele and Chapel Streets, Cowes, Phillip ...   \n",
       "4  97 Church St, Cowes, Phillip Island, Victoria ...   \n",
       "6  No. 1 The Esplanade P.O. Box 108, Cowes, Phill...   \n",
       "7  230 Church St, Cowes, Phillip Island, Victoria...   \n",
       "\n",
       "                                  Property Amenities  \\\n",
       "0  ['Free parking', 'Free internet', 'Pool', 'Bre...   \n",
       "2  ['Free parking', 'Free High Speed Internet (Wi...   \n",
       "4  ['Free parking', 'Free High Speed Internet (Wi...   \n",
       "6  ['Free parking', 'Parking garage', 'Wifi', 'Pa...   \n",
       "7  ['Free parking', 'Secured parking', 'Free High...   \n",
       "\n",
       "                                       Room Features  \\\n",
       "0  ['Air conditioning', 'Seating area', 'Iron', '...   \n",
       "2  ['Blackout curtains', 'Air conditioning', 'Hou...   \n",
       "4  ['Private balcony', 'Kitchenette', 'Kitchenwar...   \n",
       "6  ['Air conditioning', 'Desk', 'Private balcony'...   \n",
       "7  ['Blackout curtains', 'Air conditioning', 'Fir...   \n",
       "\n",
       "                                        Room Types  \\\n",
       "0            ['Non-smoking rooms', 'Family rooms']   \n",
       "2  ['Non-smoking rooms', 'Suites', 'Family rooms']   \n",
       "4                            ['Non-smoking rooms']   \n",
       "6    ['Ocean view', 'Non-smoking rooms', 'Suites']   \n",
       "7                            ['Non-smoking rooms']   \n",
       "\n",
       "                       Hotel Style  ...  \\\n",
       "0           ['Business', 'Family']  ...   \n",
       "2                    ['Mid-range']  ...   \n",
       "4  ['Family', 'Centrally Located']  ...   \n",
       "6       ['Bay View', 'Great View']  ...   \n",
       "7       ['Hidden Gem', 'Charming']  ...   \n",
       "\n",
       "                           Car/Walkability            Restaurants Proximity  \\\n",
       "0  60Somewhat walkableGrade: 60 out of 100  22 Restaurants within 0.3 miles   \n",
       "2  60Somewhat walkableGrade: 60 out of 100  31 Restaurants within 0.3 miles   \n",
       "4  65Somewhat walkableGrade: 65 out of 100  33 Restaurants within 0.3 miles   \n",
       "6  67Somewhat walkableGrade: 67 out of 100  40 Restaurants within 0.3 miles   \n",
       "7                                    empty                            empty   \n",
       "\n",
       "            Attractions Proximity Number of Reviews  \\\n",
       "0  3 Attractions within 0.3 miles               373   \n",
       "2  5 Attractions within 0.3 miles               541   \n",
       "4  5 Attractions within 0.3 miles               369   \n",
       "6  4 Attractions within 0.3 miles               275   \n",
       "7                           empty               345   \n",
       "\n",
       "                                   Covid Precautions  Travel Destination  \\\n",
       "0  ['All linens sanitized in high-temperature was...               Cowes   \n",
       "2     ['Hand sanitizer available to guests & staff']               Cowes   \n",
       "4                                                 []               Cowes   \n",
       "6                                                 []               Cowes   \n",
       "7  ['All linens sanitized in high-temperature was...               Cowes   \n",
       "\n",
       "  Restaurants/Mile Attractions/Mile                 Zip Code Walk Score  \n",
       "0            73.33             10.0  Victoria 3922 Australia         60  \n",
       "2           103.33            16.67  Victoria 3922 Australia         60  \n",
       "4            110.0            16.67  Victoria 3922 Australia         65  \n",
       "6           133.33            13.33  Victoria 3922 Australia         67  \n",
       "7            empty            empty  Victoria 3922 Australia      empty  \n",
       "\n",
       "[5 rows x 22 columns]"
      ]
     },
     "execution_count": 127,
     "metadata": {},
     "output_type": "execute_result"
    }
   ],
   "source": [
    "lr_impute_df.head()"
   ]
  },
  {
   "cell_type": "code",
   "execution_count": 128,
   "id": "b2ad32e2",
   "metadata": {},
   "outputs": [
    {
     "data": {
      "text/plain": [
       "(1309, 22)"
      ]
     },
     "execution_count": 128,
     "metadata": {},
     "output_type": "execute_result"
    }
   ],
   "source": [
    "lr_impute_df.shape"
   ]
  },
  {
   "cell_type": "code",
   "execution_count": 129,
   "id": "246a210f",
   "metadata": {},
   "outputs": [],
   "source": [
    "lr_impute_df.to_pickle('lr_imputed_df')"
   ]
  },
  {
   "cell_type": "markdown",
   "id": "a8f287bb",
   "metadata": {},
   "source": [
    "#### Model 2 - Impute price by mean or median"
   ]
  },
  {
   "cell_type": "code",
   "execution_count": 130,
   "id": "7f72131b",
   "metadata": {},
   "outputs": [],
   "source": [
    "no_price  = smaller_df[smaller_df['Featured Price'] == 'empty']"
   ]
  },
  {
   "cell_type": "code",
   "execution_count": 131,
   "id": "55bf7289",
   "metadata": {},
   "outputs": [],
   "source": [
    "has_price = smaller_df[smaller_df['Featured Price'] != 'empty']"
   ]
  },
  {
   "cell_type": "code",
   "execution_count": 132,
   "id": "dadc0f84",
   "metadata": {},
   "outputs": [],
   "source": [
    "import matplotlib.pyplot as plt "
   ]
  },
  {
   "cell_type": "code",
   "execution_count": 133,
   "id": "76c47dcd",
   "metadata": {},
   "outputs": [
    {
     "data": {
      "text/plain": [
       "(array([146., 155.,  48.,  23.,   9.,   2.,   2.,   1.,   2.,   3.]),\n",
       " array([32.0, 107.7, 183.4, 259.1, 334.8, 410.5, 486.20000000000005, 561.9,\n",
       "        637.6, 713.3000000000001, 789.0], dtype=object),\n",
       " <BarContainer object of 10 artists>)"
      ]
     },
     "execution_count": 133,
     "metadata": {},
     "output_type": "execute_result"
    },
    {
     "data": {
      "image/png": "[encoded data removed]",
      "text/plain": [
       "<Figure size 432x288 with 1 Axes>"
      ]
     },
     "metadata": {
      "needs_background": "light"
     },
     "output_type": "display_data"
    }
   ],
   "source": [
    "plt.hist(has_price['Featured Price'])\n",
    "#skew to right "
   ]
  },
  {
   "cell_type": "code",
   "execution_count": 134,
   "id": "414ff096",
   "metadata": {},
   "outputs": [],
   "source": [
    "med_price = has_price['Featured Price'].median()"
   ]
  },
  {
   "cell_type": "code",
   "execution_count": 135,
   "id": "a20169a6",
   "metadata": {},
   "outputs": [],
   "source": [
    "med_impute_df = df.copy()"
   ]
  },
  {
   "cell_type": "code",
   "execution_count": 136,
   "id": "7220fb87",
   "metadata": {},
   "outputs": [],
   "source": [
    "med_impute_df.loc[med_impute_df[\"Featured Price\"] == 'empty', \"Featured Price\"] = med_price"
   ]
  },
  {
   "cell_type": "code",
   "execution_count": 137,
   "id": "10755014",
   "metadata": {
    "scrolled": true
   },
   "outputs": [
    {
     "data": {
      "text/html": [
       "<div>\n",
       "<style scoped>\n",
       "    .dataframe tbody tr th:only-of-type {\n",
       "        vertical-align: middle;\n",
       "    }\n",
       "\n",
       "    .dataframe tbody tr th {\n",
       "        vertical-align: top;\n",
       "    }\n",
       "\n",
       "    .dataframe thead th {\n",
       "        text-align: right;\n",
       "    }\n",
       "</style>\n",
       "<table border=\"1\" class=\"dataframe\">\n",
       "  <thead>\n",
       "    <tr style=\"text-align: right;\">\n",
       "      <th></th>\n",
       "      <th>Name</th>\n",
       "      <th>Featured Price</th>\n",
       "      <th>Category</th>\n",
       "      <th>Page Name</th>\n",
       "      <th>Tripadvisor Rating</th>\n",
       "      <th>Address</th>\n",
       "      <th>Property Amenities</th>\n",
       "      <th>Room Features</th>\n",
       "      <th>Room Types</th>\n",
       "      <th>Hotel Style</th>\n",
       "      <th>...</th>\n",
       "      <th>Car/Walkability</th>\n",
       "      <th>Restaurants Proximity</th>\n",
       "      <th>Attractions Proximity</th>\n",
       "      <th>Number of Reviews</th>\n",
       "      <th>Covid Precautions</th>\n",
       "      <th>Travel Destination</th>\n",
       "      <th>Restaurants/Mile</th>\n",
       "      <th>Attractions/Mile</th>\n",
       "      <th>Zip Code</th>\n",
       "      <th>Walk Score</th>\n",
       "    </tr>\n",
       "  </thead>\n",
       "  <tbody>\n",
       "    <tr>\n",
       "      <th>0</th>\n",
       "      <td>Tropicana Motor Inn</td>\n",
       "      <td>84.0</td>\n",
       "      <td>Hostel</td>\n",
       "      <td>Tropicana Motor Inn</td>\n",
       "      <td>4.5</td>\n",
       "      <td>22-26 Osbourne Ave, Cowes, Phillip Island, Vic...</td>\n",
       "      <td>['Free parking', 'Free internet', 'Pool', 'Bre...</td>\n",
       "      <td>['Air conditioning', 'Seating area', 'Iron', '...</td>\n",
       "      <td>['Non-smoking rooms', 'Family rooms']</td>\n",
       "      <td>['Business', 'Family']</td>\n",
       "      <td>...</td>\n",
       "      <td>60Somewhat walkableGrade: 60 out of 100</td>\n",
       "      <td>22 Restaurants within 0.3 miles</td>\n",
       "      <td>3 Attractions within 0.3 miles</td>\n",
       "      <td>373</td>\n",
       "      <td>['All linens sanitized in high-temperature was...</td>\n",
       "      <td>Cowes</td>\n",
       "      <td>73.33</td>\n",
       "      <td>10.0</td>\n",
       "      <td>Victoria 3922 Australia</td>\n",
       "      <td>60</td>\n",
       "    </tr>\n",
       "    <tr>\n",
       "      <th>2</th>\n",
       "      <td>Kaloha Holiday Resort</td>\n",
       "      <td>123.0</td>\n",
       "      <td>Bed and Breakfast</td>\n",
       "      <td>Kaloha Holiday Resort</td>\n",
       "      <td>4.5</td>\n",
       "      <td>Cnr Steele and Chapel Streets, Cowes, Phillip ...</td>\n",
       "      <td>['Free parking', 'Free High Speed Internet (Wi...</td>\n",
       "      <td>['Blackout curtains', 'Air conditioning', 'Hou...</td>\n",
       "      <td>['Non-smoking rooms', 'Suites', 'Family rooms']</td>\n",
       "      <td>['Mid-range']</td>\n",
       "      <td>...</td>\n",
       "      <td>60Somewhat walkableGrade: 60 out of 100</td>\n",
       "      <td>31 Restaurants within 0.3 miles</td>\n",
       "      <td>5 Attractions within 0.3 miles</td>\n",
       "      <td>541</td>\n",
       "      <td>['Hand sanitizer available to guests &amp; staff']</td>\n",
       "      <td>Cowes</td>\n",
       "      <td>103.33</td>\n",
       "      <td>16.67</td>\n",
       "      <td>Victoria 3922 Australia</td>\n",
       "      <td>60</td>\n",
       "    </tr>\n",
       "    <tr>\n",
       "      <th>4</th>\n",
       "      <td>Amaroo Park</td>\n",
       "      <td>106.0</td>\n",
       "      <td>Condominium</td>\n",
       "      <td>Amaroo Park</td>\n",
       "      <td>4.5</td>\n",
       "      <td>97 Church St, Cowes, Phillip Island, Victoria ...</td>\n",
       "      <td>['Free parking', 'Free High Speed Internet (Wi...</td>\n",
       "      <td>['Private balcony', 'Kitchenette', 'Kitchenwar...</td>\n",
       "      <td>['Non-smoking rooms']</td>\n",
       "      <td>['Family', 'Centrally Located']</td>\n",
       "      <td>...</td>\n",
       "      <td>65Somewhat walkableGrade: 65 out of 100</td>\n",
       "      <td>33 Restaurants within 0.3 miles</td>\n",
       "      <td>5 Attractions within 0.3 miles</td>\n",
       "      <td>369</td>\n",
       "      <td>[]</td>\n",
       "      <td>Cowes</td>\n",
       "      <td>110.0</td>\n",
       "      <td>16.67</td>\n",
       "      <td>Victoria 3922 Australia</td>\n",
       "      <td>65</td>\n",
       "    </tr>\n",
       "    <tr>\n",
       "      <th>6</th>\n",
       "      <td>The Waves Apartments</td>\n",
       "      <td>183.0</td>\n",
       "      <td>Condominium</td>\n",
       "      <td>The Waves Apartments</td>\n",
       "      <td>4.5</td>\n",
       "      <td>No. 1 The Esplanade P.O. Box 108, Cowes, Phill...</td>\n",
       "      <td>['Free parking', 'Parking garage', 'Wifi', 'Pa...</td>\n",
       "      <td>['Air conditioning', 'Desk', 'Private balcony'...</td>\n",
       "      <td>['Ocean view', 'Non-smoking rooms', 'Suites']</td>\n",
       "      <td>['Bay View', 'Great View']</td>\n",
       "      <td>...</td>\n",
       "      <td>67Somewhat walkableGrade: 67 out of 100</td>\n",
       "      <td>40 Restaurants within 0.3 miles</td>\n",
       "      <td>4 Attractions within 0.3 miles</td>\n",
       "      <td>275</td>\n",
       "      <td>[]</td>\n",
       "      <td>Cowes</td>\n",
       "      <td>133.33</td>\n",
       "      <td>13.33</td>\n",
       "      <td>Victoria 3922 Australia</td>\n",
       "      <td>67</td>\n",
       "    </tr>\n",
       "    <tr>\n",
       "      <th>7</th>\n",
       "      <td>Glen Isla House</td>\n",
       "      <td>173.0</td>\n",
       "      <td>Specialty Hotel</td>\n",
       "      <td>Glen Isla House</td>\n",
       "      <td>5.0</td>\n",
       "      <td>230 Church St, Cowes, Phillip Island, Victoria...</td>\n",
       "      <td>['Free parking', 'Secured parking', 'Free High...</td>\n",
       "      <td>['Blackout curtains', 'Air conditioning', 'Fir...</td>\n",
       "      <td>['Non-smoking rooms']</td>\n",
       "      <td>['Hidden Gem', 'Charming']</td>\n",
       "      <td>...</td>\n",
       "      <td>empty</td>\n",
       "      <td>empty</td>\n",
       "      <td>empty</td>\n",
       "      <td>345</td>\n",
       "      <td>['All linens sanitized in high-temperature was...</td>\n",
       "      <td>Cowes</td>\n",
       "      <td>empty</td>\n",
       "      <td>empty</td>\n",
       "      <td>Victoria 3922 Australia</td>\n",
       "      <td>empty</td>\n",
       "    </tr>\n",
       "  </tbody>\n",
       "</table>\n",
       "<p>5 rows × 22 columns</p>\n",
       "</div>"
      ],
      "text/plain": [
       "                    Name Featured Price           Category  \\\n",
       "0    Tropicana Motor Inn           84.0             Hostel   \n",
       "2  Kaloha Holiday Resort          123.0  Bed and Breakfast   \n",
       "4            Amaroo Park          106.0        Condominium   \n",
       "6   The Waves Apartments          183.0        Condominium   \n",
       "7        Glen Isla House          173.0    Specialty Hotel   \n",
       "\n",
       "               Page Name  Tripadvisor Rating  \\\n",
       "0    Tropicana Motor Inn                 4.5   \n",
       "2  Kaloha Holiday Resort                 4.5   \n",
       "4            Amaroo Park                 4.5   \n",
       "6   The Waves Apartments                 4.5   \n",
       "7        Glen Isla House                 5.0   \n",
       "\n",
       "                                             Address  \\\n",
       "0  22-26 Osbourne Ave, Cowes, Phillip Island, Vic...   \n",
       "2  Cnr Steele and Chapel Streets, Cowes, Phillip ...   \n",
       "4  97 Church St, Cowes, Phillip Island, Victoria ...   \n",
       "6  No. 1 The Esplanade P.O. Box 108, Cowes, Phill...   \n",
       "7  230 Church St, Cowes, Phillip Island, Victoria...   \n",
       "\n",
       "                                  Property Amenities  \\\n",
       "0  ['Free parking', 'Free internet', 'Pool', 'Bre...   \n",
       "2  ['Free parking', 'Free High Speed Internet (Wi...   \n",
       "4  ['Free parking', 'Free High Speed Internet (Wi...   \n",
       "6  ['Free parking', 'Parking garage', 'Wifi', 'Pa...   \n",
       "7  ['Free parking', 'Secured parking', 'Free High...   \n",
       "\n",
       "                                       Room Features  \\\n",
       "0  ['Air conditioning', 'Seating area', 'Iron', '...   \n",
       "2  ['Blackout curtains', 'Air conditioning', 'Hou...   \n",
       "4  ['Private balcony', 'Kitchenette', 'Kitchenwar...   \n",
       "6  ['Air conditioning', 'Desk', 'Private balcony'...   \n",
       "7  ['Blackout curtains', 'Air conditioning', 'Fir...   \n",
       "\n",
       "                                        Room Types  \\\n",
       "0            ['Non-smoking rooms', 'Family rooms']   \n",
       "2  ['Non-smoking rooms', 'Suites', 'Family rooms']   \n",
       "4                            ['Non-smoking rooms']   \n",
       "6    ['Ocean view', 'Non-smoking rooms', 'Suites']   \n",
       "7                            ['Non-smoking rooms']   \n",
       "\n",
       "                       Hotel Style  ...  \\\n",
       "0           ['Business', 'Family']  ...   \n",
       "2                    ['Mid-range']  ...   \n",
       "4  ['Family', 'Centrally Located']  ...   \n",
       "6       ['Bay View', 'Great View']  ...   \n",
       "7       ['Hidden Gem', 'Charming']  ...   \n",
       "\n",
       "                           Car/Walkability            Restaurants Proximity  \\\n",
       "0  60Somewhat walkableGrade: 60 out of 100  22 Restaurants within 0.3 miles   \n",
       "2  60Somewhat walkableGrade: 60 out of 100  31 Restaurants within 0.3 miles   \n",
       "4  65Somewhat walkableGrade: 65 out of 100  33 Restaurants within 0.3 miles   \n",
       "6  67Somewhat walkableGrade: 67 out of 100  40 Restaurants within 0.3 miles   \n",
       "7                                    empty                            empty   \n",
       "\n",
       "            Attractions Proximity Number of Reviews  \\\n",
       "0  3 Attractions within 0.3 miles               373   \n",
       "2  5 Attractions within 0.3 miles               541   \n",
       "4  5 Attractions within 0.3 miles               369   \n",
       "6  4 Attractions within 0.3 miles               275   \n",
       "7                           empty               345   \n",
       "\n",
       "                                   Covid Precautions  Travel Destination  \\\n",
       "0  ['All linens sanitized in high-temperature was...               Cowes   \n",
       "2     ['Hand sanitizer available to guests & staff']               Cowes   \n",
       "4                                                 []               Cowes   \n",
       "6                                                 []               Cowes   \n",
       "7  ['All linens sanitized in high-temperature was...               Cowes   \n",
       "\n",
       "  Restaurants/Mile Attractions/Mile                 Zip Code Walk Score  \n",
       "0            73.33             10.0  Victoria 3922 Australia         60  \n",
       "2           103.33            16.67  Victoria 3922 Australia         60  \n",
       "4            110.0            16.67  Victoria 3922 Australia         65  \n",
       "6           133.33            13.33  Victoria 3922 Australia         67  \n",
       "7            empty            empty  Victoria 3922 Australia      empty  \n",
       "\n",
       "[5 rows x 22 columns]"
      ]
     },
     "execution_count": 137,
     "metadata": {},
     "output_type": "execute_result"
    }
   ],
   "source": [
    "med_impute_df.head()"
   ]
  },
  {
   "cell_type": "code",
   "execution_count": 138,
   "id": "cad2c7fd",
   "metadata": {},
   "outputs": [],
   "source": [
    "med_impute_df.to_pickle('med_imputed_df')"
   ]
  },
  {
   "cell_type": "markdown",
   "id": "a1e2719a",
   "metadata": {},
   "source": [
    "### Evaluate which method leads to better R^2"
   ]
  },
  {
   "cell_type": "code",
   "execution_count": 139,
   "id": "b0113b34",
   "metadata": {},
   "outputs": [],
   "source": [
    "import seaborn as sns"
   ]
  },
  {
   "cell_type": "code",
   "execution_count": 140,
   "id": "11f31364",
   "metadata": {},
   "outputs": [
    {
     "name": "stdout",
     "output_type": "stream",
     "text": [
      "<class 'pandas.core.frame.DataFrame'>\n",
      "Int64Index: 1309 entries, 0 to 2756\n",
      "Data columns (total 22 columns):\n",
      " #   Column                 Non-Null Count  Dtype  \n",
      "---  ------                 --------------  -----  \n",
      " 0   Name                   1309 non-null   object \n",
      " 1   Featured Price         1309 non-null   object \n",
      " 2   Category               1309 non-null   object \n",
      " 3   Page Name              1309 non-null   object \n",
      " 4   Tripadvisor Rating     1309 non-null   float64\n",
      " 5   Address                1309 non-null   object \n",
      " 6   Property Amenities     1309 non-null   object \n",
      " 7   Room Features          1309 non-null   object \n",
      " 8   Room Types             1309 non-null   object \n",
      " 9   Hotel Style            1309 non-null   object \n",
      " 10  Languages              1309 non-null   object \n",
      " 11  Hotel Star Class       1309 non-null   object \n",
      " 12  Car/Walkability        1309 non-null   object \n",
      " 13  Restaurants Proximity  1309 non-null   object \n",
      " 14  Attractions Proximity  1309 non-null   object \n",
      " 15  Number of Reviews      1309 non-null   int64  \n",
      " 16  Covid Precautions      1309 non-null   object \n",
      " 17  Travel Destination     1309 non-null   object \n",
      " 18  Restaurants/Mile       1309 non-null   object \n",
      " 19  Attractions/Mile       1309 non-null   object \n",
      " 20  Zip Code               1309 non-null   object \n",
      " 21  Walk Score             1309 non-null   object \n",
      "dtypes: float64(1), int64(1), object(20)\n",
      "memory usage: 235.2+ KB\n"
     ]
    }
   ],
   "source": [
    "lr_impute_df.info()"
   ]
  },
  {
   "cell_type": "code",
   "execution_count": 141,
   "id": "9ed28079",
   "metadata": {
    "scrolled": true
   },
   "outputs": [],
   "source": [
    "lr_impute_df = lr_impute_df[lr_impute_df['Hotel Star Class'] != 'empty']"
   ]
  },
  {
   "cell_type": "code",
   "execution_count": 142,
   "id": "e70677de",
   "metadata": {},
   "outputs": [],
   "source": [
    "lr_impute_df['Hotel Star Class'] = lr_impute_df['Hotel Star Class'].apply(lambda x: float(x))"
   ]
  },
  {
   "cell_type": "code",
   "execution_count": 143,
   "id": "31deb1ee",
   "metadata": {},
   "outputs": [],
   "source": [
    "lr_impute_df['Featured Price'] = lr_impute_df['Featured Price'].apply(lambda x: round(x))"
   ]
  },
  {
   "cell_type": "code",
   "execution_count": 144,
   "id": "a58bfd1a",
   "metadata": {},
   "outputs": [],
   "source": [
    "df1 = lr_impute_df.loc[:,['Featured Price','Tripadvisor Rating', 'Number of Reviews', 'Hotel Star Class']]"
   ]
  },
  {
   "cell_type": "code",
   "execution_count": 145,
   "id": "fca6b98d",
   "metadata": {},
   "outputs": [
    {
     "data": {
      "text/html": [
       "<div>\n",
       "<style scoped>\n",
       "    .dataframe tbody tr th:only-of-type {\n",
       "        vertical-align: middle;\n",
       "    }\n",
       "\n",
       "    .dataframe tbody tr th {\n",
       "        vertical-align: top;\n",
       "    }\n",
       "\n",
       "    .dataframe thead th {\n",
       "        text-align: right;\n",
       "    }\n",
       "</style>\n",
       "<table border=\"1\" class=\"dataframe\">\n",
       "  <thead>\n",
       "    <tr style=\"text-align: right;\">\n",
       "      <th></th>\n",
       "      <th>Featured Price</th>\n",
       "      <th>Tripadvisor Rating</th>\n",
       "      <th>Number of Reviews</th>\n",
       "      <th>Hotel Star Class</th>\n",
       "    </tr>\n",
       "  </thead>\n",
       "  <tbody>\n",
       "    <tr>\n",
       "      <th>0</th>\n",
       "      <td>84</td>\n",
       "      <td>4.5</td>\n",
       "      <td>373</td>\n",
       "      <td>3.5</td>\n",
       "    </tr>\n",
       "    <tr>\n",
       "      <th>2</th>\n",
       "      <td>123</td>\n",
       "      <td>4.5</td>\n",
       "      <td>541</td>\n",
       "      <td>3.0</td>\n",
       "    </tr>\n",
       "    <tr>\n",
       "      <th>4</th>\n",
       "      <td>106</td>\n",
       "      <td>4.5</td>\n",
       "      <td>369</td>\n",
       "      <td>3.0</td>\n",
       "    </tr>\n",
       "    <tr>\n",
       "      <th>6</th>\n",
       "      <td>183</td>\n",
       "      <td>4.5</td>\n",
       "      <td>275</td>\n",
       "      <td>3.5</td>\n",
       "    </tr>\n",
       "    <tr>\n",
       "      <th>7</th>\n",
       "      <td>173</td>\n",
       "      <td>5.0</td>\n",
       "      <td>345</td>\n",
       "      <td>5.0</td>\n",
       "    </tr>\n",
       "    <tr>\n",
       "      <th>...</th>\n",
       "      <td>...</td>\n",
       "      <td>...</td>\n",
       "      <td>...</td>\n",
       "      <td>...</td>\n",
       "    </tr>\n",
       "    <tr>\n",
       "      <th>2730</th>\n",
       "      <td>168</td>\n",
       "      <td>4.5</td>\n",
       "      <td>63</td>\n",
       "      <td>4.0</td>\n",
       "    </tr>\n",
       "    <tr>\n",
       "      <th>2735</th>\n",
       "      <td>168</td>\n",
       "      <td>4.5</td>\n",
       "      <td>2</td>\n",
       "      <td>3.5</td>\n",
       "    </tr>\n",
       "    <tr>\n",
       "      <th>2739</th>\n",
       "      <td>181</td>\n",
       "      <td>5.0</td>\n",
       "      <td>1</td>\n",
       "      <td>4.0</td>\n",
       "    </tr>\n",
       "    <tr>\n",
       "      <th>2741</th>\n",
       "      <td>119</td>\n",
       "      <td>2.5</td>\n",
       "      <td>4</td>\n",
       "      <td>4.0</td>\n",
       "    </tr>\n",
       "    <tr>\n",
       "      <th>2753</th>\n",
       "      <td>143</td>\n",
       "      <td>3.5</td>\n",
       "      <td>39</td>\n",
       "      <td>4.0</td>\n",
       "    </tr>\n",
       "  </tbody>\n",
       "</table>\n",
       "<p>1057 rows × 4 columns</p>\n",
       "</div>"
      ],
      "text/plain": [
       "      Featured Price  Tripadvisor Rating  Number of Reviews  Hotel Star Class\n",
       "0                 84                 4.5                373               3.5\n",
       "2                123                 4.5                541               3.0\n",
       "4                106                 4.5                369               3.0\n",
       "6                183                 4.5                275               3.5\n",
       "7                173                 5.0                345               5.0\n",
       "...              ...                 ...                ...               ...\n",
       "2730             168                 4.5                 63               4.0\n",
       "2735             168                 4.5                  2               3.5\n",
       "2739             181                 5.0                  1               4.0\n",
       "2741             119                 2.5                  4               4.0\n",
       "2753             143                 3.5                 39               4.0\n",
       "\n",
       "[1057 rows x 4 columns]"
      ]
     },
     "execution_count": 145,
     "metadata": {},
     "output_type": "execute_result"
    }
   ],
   "source": [
    "df1"
   ]
  },
  {
   "cell_type": "code",
   "execution_count": 146,
   "id": "f9d01f6e",
   "metadata": {},
   "outputs": [
    {
     "data": {
      "text/plain": [
       "<seaborn.axisgrid.PairGrid at 0x1609faf40>"
      ]
     },
     "execution_count": 146,
     "metadata": {},
     "output_type": "execute_result"
    },
    {
     "data": {
      "image/png": "[encoded data removed]",
      "text/plain": [
       "<Figure size 720x720 with 20 Axes>"
      ]
     },
     "metadata": {
      "needs_background": "light"
     },
     "output_type": "display_data"
    }
   ],
   "source": [
    "sns.pairplot(df1)\n",
    "#this smaller df does not seem to show anything promising - need to do feature engineering w categoricals"
   ]
  },
  {
   "cell_type": "code",
   "execution_count": 147,
   "id": "da79ad14",
   "metadata": {},
   "outputs": [],
   "source": [
    "import matplotlib.pyplot as plt"
   ]
  },
  {
   "cell_type": "code",
   "execution_count": 148,
   "id": "ebbc2231",
   "metadata": {},
   "outputs": [
    {
     "data": {
      "image/png": "[encoded data removed]",
      "text/plain": [
       "<Figure size 432x288 with 2 Axes>"
      ]
     },
     "metadata": {
      "needs_background": "light"
     },
     "output_type": "display_data"
    }
   ],
   "source": [
    "\n",
    "sns.heatmap(df1.corr(), annot=True)\n",
    "plt.savefig(\"baseline heatmap.png\", bbox_inches=\"tight\", dpi=500)"
   ]
  },
  {
   "cell_type": "code",
   "execution_count": 149,
   "id": "6b06c9f3",
   "metadata": {},
   "outputs": [],
   "source": [
    "from sklearn.model_selection import train_test_split"
   ]
  },
  {
   "cell_type": "code",
   "execution_count": 150,
   "id": "e045b204",
   "metadata": {},
   "outputs": [],
   "source": [
    "import numpy as np"
   ]
  },
  {
   "cell_type": "code",
   "execution_count": 151,
   "id": "9ca50c0b",
   "metadata": {},
   "outputs": [
    {
     "name": "stdout",
     "output_type": "stream",
     "text": [
      "OLS using LR-imputed price\n",
      "Train:  0.098\n",
      "Val:  0.151\n"
     ]
    }
   ],
   "source": [
    "X1 = df1.drop(columns=['Tripadvisor Rating'])\n",
    "y1 = df1['Tripadvisor Rating']\n",
    "#y1 = np.log(df1['Tripadvisor Rating'])\n",
    "\n",
    "# Split into 60 train/20 val/20 test\n",
    "X, X_test, y, y_test = train_test_split(X1, y1, test_size=0.2, random_state=42)\n",
    "X_train, X_val, y_train, y_val = train_test_split(X, y, test_size=0.25, random_state=42)\n",
    "\n",
    "lr = LinearRegression()\n",
    "lr.fit(X_train,y_train)\n",
    "print('OLS using LR-imputed price')\n",
    "print('Train: ', lr.score(X_train,y_train).round(3))\n",
    "print('Val: ', lr.score(X_val,y_val).round(3))"
   ]
  },
  {
   "cell_type": "code",
   "execution_count": 152,
   "id": "5b450c7b",
   "metadata": {},
   "outputs": [
    {
     "data": {
      "text/html": [
       "<div>\n",
       "<style scoped>\n",
       "    .dataframe tbody tr th:only-of-type {\n",
       "        vertical-align: middle;\n",
       "    }\n",
       "\n",
       "    .dataframe tbody tr th {\n",
       "        vertical-align: top;\n",
       "    }\n",
       "\n",
       "    .dataframe thead th {\n",
       "        text-align: right;\n",
       "    }\n",
       "</style>\n",
       "<table border=\"1\" class=\"dataframe\">\n",
       "  <thead>\n",
       "    <tr style=\"text-align: right;\">\n",
       "      <th></th>\n",
       "      <th>Name</th>\n",
       "      <th>Featured Price</th>\n",
       "      <th>Category</th>\n",
       "      <th>Page Name</th>\n",
       "      <th>Tripadvisor Rating</th>\n",
       "      <th>Address</th>\n",
       "      <th>Property Amenities</th>\n",
       "      <th>Room Features</th>\n",
       "      <th>Room Types</th>\n",
       "      <th>Hotel Style</th>\n",
       "      <th>...</th>\n",
       "      <th>Car/Walkability</th>\n",
       "      <th>Restaurants Proximity</th>\n",
       "      <th>Attractions Proximity</th>\n",
       "      <th>Number of Reviews</th>\n",
       "      <th>Covid Precautions</th>\n",
       "      <th>Travel Destination</th>\n",
       "      <th>Restaurants/Mile</th>\n",
       "      <th>Attractions/Mile</th>\n",
       "      <th>Zip Code</th>\n",
       "      <th>Walk Score</th>\n",
       "    </tr>\n",
       "  </thead>\n",
       "  <tbody>\n",
       "    <tr>\n",
       "      <th>0</th>\n",
       "      <td>Tropicana Motor Inn</td>\n",
       "      <td>84.0</td>\n",
       "      <td>Hostel</td>\n",
       "      <td>Tropicana Motor Inn</td>\n",
       "      <td>4.5</td>\n",
       "      <td>22-26 Osbourne Ave, Cowes, Phillip Island, Vic...</td>\n",
       "      <td>['Free parking', 'Free internet', 'Pool', 'Bre...</td>\n",
       "      <td>['Air conditioning', 'Seating area', 'Iron', '...</td>\n",
       "      <td>['Non-smoking rooms', 'Family rooms']</td>\n",
       "      <td>['Business', 'Family']</td>\n",
       "      <td>...</td>\n",
       "      <td>60Somewhat walkableGrade: 60 out of 100</td>\n",
       "      <td>22 Restaurants within 0.3 miles</td>\n",
       "      <td>3 Attractions within 0.3 miles</td>\n",
       "      <td>373</td>\n",
       "      <td>['All linens sanitized in high-temperature was...</td>\n",
       "      <td>Cowes</td>\n",
       "      <td>73.33</td>\n",
       "      <td>10.0</td>\n",
       "      <td>Victoria 3922 Australia</td>\n",
       "      <td>60</td>\n",
       "    </tr>\n",
       "    <tr>\n",
       "      <th>2</th>\n",
       "      <td>Kaloha Holiday Resort</td>\n",
       "      <td>123.0</td>\n",
       "      <td>Bed and Breakfast</td>\n",
       "      <td>Kaloha Holiday Resort</td>\n",
       "      <td>4.5</td>\n",
       "      <td>Cnr Steele and Chapel Streets, Cowes, Phillip ...</td>\n",
       "      <td>['Free parking', 'Free High Speed Internet (Wi...</td>\n",
       "      <td>['Blackout curtains', 'Air conditioning', 'Hou...</td>\n",
       "      <td>['Non-smoking rooms', 'Suites', 'Family rooms']</td>\n",
       "      <td>['Mid-range']</td>\n",
       "      <td>...</td>\n",
       "      <td>60Somewhat walkableGrade: 60 out of 100</td>\n",
       "      <td>31 Restaurants within 0.3 miles</td>\n",
       "      <td>5 Attractions within 0.3 miles</td>\n",
       "      <td>541</td>\n",
       "      <td>['Hand sanitizer available to guests &amp; staff']</td>\n",
       "      <td>Cowes</td>\n",
       "      <td>103.33</td>\n",
       "      <td>16.67</td>\n",
       "      <td>Victoria 3922 Australia</td>\n",
       "      <td>60</td>\n",
       "    </tr>\n",
       "    <tr>\n",
       "      <th>4</th>\n",
       "      <td>Amaroo Park</td>\n",
       "      <td>106.0</td>\n",
       "      <td>Condominium</td>\n",
       "      <td>Amaroo Park</td>\n",
       "      <td>4.5</td>\n",
       "      <td>97 Church St, Cowes, Phillip Island, Victoria ...</td>\n",
       "      <td>['Free parking', 'Free High Speed Internet (Wi...</td>\n",
       "      <td>['Private balcony', 'Kitchenette', 'Kitchenwar...</td>\n",
       "      <td>['Non-smoking rooms']</td>\n",
       "      <td>['Family', 'Centrally Located']</td>\n",
       "      <td>...</td>\n",
       "      <td>65Somewhat walkableGrade: 65 out of 100</td>\n",
       "      <td>33 Restaurants within 0.3 miles</td>\n",
       "      <td>5 Attractions within 0.3 miles</td>\n",
       "      <td>369</td>\n",
       "      <td>[]</td>\n",
       "      <td>Cowes</td>\n",
       "      <td>110.0</td>\n",
       "      <td>16.67</td>\n",
       "      <td>Victoria 3922 Australia</td>\n",
       "      <td>65</td>\n",
       "    </tr>\n",
       "    <tr>\n",
       "      <th>6</th>\n",
       "      <td>The Waves Apartments</td>\n",
       "      <td>183.0</td>\n",
       "      <td>Condominium</td>\n",
       "      <td>The Waves Apartments</td>\n",
       "      <td>4.5</td>\n",
       "      <td>No. 1 The Esplanade P.O. Box 108, Cowes, Phill...</td>\n",
       "      <td>['Free parking', 'Parking garage', 'Wifi', 'Pa...</td>\n",
       "      <td>['Air conditioning', 'Desk', 'Private balcony'...</td>\n",
       "      <td>['Ocean view', 'Non-smoking rooms', 'Suites']</td>\n",
       "      <td>['Bay View', 'Great View']</td>\n",
       "      <td>...</td>\n",
       "      <td>67Somewhat walkableGrade: 67 out of 100</td>\n",
       "      <td>40 Restaurants within 0.3 miles</td>\n",
       "      <td>4 Attractions within 0.3 miles</td>\n",
       "      <td>275</td>\n",
       "      <td>[]</td>\n",
       "      <td>Cowes</td>\n",
       "      <td>133.33</td>\n",
       "      <td>13.33</td>\n",
       "      <td>Victoria 3922 Australia</td>\n",
       "      <td>67</td>\n",
       "    </tr>\n",
       "    <tr>\n",
       "      <th>7</th>\n",
       "      <td>Glen Isla House</td>\n",
       "      <td>173.0</td>\n",
       "      <td>Specialty Hotel</td>\n",
       "      <td>Glen Isla House</td>\n",
       "      <td>5.0</td>\n",
       "      <td>230 Church St, Cowes, Phillip Island, Victoria...</td>\n",
       "      <td>['Free parking', 'Secured parking', 'Free High...</td>\n",
       "      <td>['Blackout curtains', 'Air conditioning', 'Fir...</td>\n",
       "      <td>['Non-smoking rooms']</td>\n",
       "      <td>['Hidden Gem', 'Charming']</td>\n",
       "      <td>...</td>\n",
       "      <td>empty</td>\n",
       "      <td>empty</td>\n",
       "      <td>empty</td>\n",
       "      <td>345</td>\n",
       "      <td>['All linens sanitized in high-temperature was...</td>\n",
       "      <td>Cowes</td>\n",
       "      <td>empty</td>\n",
       "      <td>empty</td>\n",
       "      <td>Victoria 3922 Australia</td>\n",
       "      <td>empty</td>\n",
       "    </tr>\n",
       "    <tr>\n",
       "      <th>...</th>\n",
       "      <td>...</td>\n",
       "      <td>...</td>\n",
       "      <td>...</td>\n",
       "      <td>...</td>\n",
       "      <td>...</td>\n",
       "      <td>...</td>\n",
       "      <td>...</td>\n",
       "      <td>...</td>\n",
       "      <td>...</td>\n",
       "      <td>...</td>\n",
       "      <td>...</td>\n",
       "      <td>...</td>\n",
       "      <td>...</td>\n",
       "      <td>...</td>\n",
       "      <td>...</td>\n",
       "      <td>...</td>\n",
       "      <td>...</td>\n",
       "      <td>...</td>\n",
       "      <td>...</td>\n",
       "      <td>...</td>\n",
       "      <td>...</td>\n",
       "    </tr>\n",
       "    <tr>\n",
       "      <th>2740</th>\n",
       "      <td>Dumfries Park B&amp;B</td>\n",
       "      <td>127.0</td>\n",
       "      <td>Bed and Breakfast</td>\n",
       "      <td>Dumfries Park B&amp;B</td>\n",
       "      <td>3.0</td>\n",
       "      <td>Church Street, Cowes, Phillip Island, Victoria...</td>\n",
       "      <td>empty</td>\n",
       "      <td>empty</td>\n",
       "      <td>empty</td>\n",
       "      <td>[]</td>\n",
       "      <td>...</td>\n",
       "      <td>empty</td>\n",
       "      <td>empty</td>\n",
       "      <td>empty</td>\n",
       "      <td>6</td>\n",
       "      <td>[]</td>\n",
       "      <td>Phillip Island</td>\n",
       "      <td>empty</td>\n",
       "      <td>empty</td>\n",
       "      <td>Victoria 3922 Australia</td>\n",
       "      <td>empty</td>\n",
       "    </tr>\n",
       "    <tr>\n",
       "      <th>2741</th>\n",
       "      <td>First Class Bed &amp; Breakfast</td>\n",
       "      <td>127.0</td>\n",
       "      <td>Small Hotel</td>\n",
       "      <td>First Class Bed &amp; Breakfast</td>\n",
       "      <td>2.5</td>\n",
       "      <td>648 Ventnor Rd, Ventnor, Phillip Island, Victo...</td>\n",
       "      <td>['Spa']</td>\n",
       "      <td>empty</td>\n",
       "      <td>empty</td>\n",
       "      <td>[]</td>\n",
       "      <td>...</td>\n",
       "      <td>empty</td>\n",
       "      <td>empty</td>\n",
       "      <td>empty</td>\n",
       "      <td>4</td>\n",
       "      <td>[]</td>\n",
       "      <td>Phillip Island</td>\n",
       "      <td>empty</td>\n",
       "      <td>empty</td>\n",
       "      <td>Victoria 3922 Australia</td>\n",
       "      <td>empty</td>\n",
       "    </tr>\n",
       "    <tr>\n",
       "      <th>2742</th>\n",
       "      <td>Hollywood Hotel</td>\n",
       "      <td>127.0</td>\n",
       "      <td>Villa</td>\n",
       "      <td>Hollywood Hotel</td>\n",
       "      <td>1.5</td>\n",
       "      <td>349 Church St, Cowes, Phillip Island, Victoria...</td>\n",
       "      <td>['Free parking', 'Bar / lounge', 'Children Act...</td>\n",
       "      <td>empty</td>\n",
       "      <td>empty</td>\n",
       "      <td>[]</td>\n",
       "      <td>...</td>\n",
       "      <td>empty</td>\n",
       "      <td>empty</td>\n",
       "      <td>empty</td>\n",
       "      <td>7</td>\n",
       "      <td>[]</td>\n",
       "      <td>Phillip Island</td>\n",
       "      <td>empty</td>\n",
       "      <td>empty</td>\n",
       "      <td>Victoria 3922 Australia</td>\n",
       "      <td>empty</td>\n",
       "    </tr>\n",
       "    <tr>\n",
       "      <th>2753</th>\n",
       "      <td>Cottages For Two</td>\n",
       "      <td>127.0</td>\n",
       "      <td>Limited Service Property</td>\n",
       "      <td>Cottages For Two</td>\n",
       "      <td>3.5</td>\n",
       "      <td>226-228 Settlement Rd, Cowes, Phillip Island, ...</td>\n",
       "      <td>['Free parking', 'Free High Speed Internet (Wi...</td>\n",
       "      <td>['Soundproof rooms', 'Air conditioning', 'Safe...</td>\n",
       "      <td>['Non-smoking rooms']</td>\n",
       "      <td>[]</td>\n",
       "      <td>...</td>\n",
       "      <td>54Somewhat walkableGrade: 54 out of 100</td>\n",
       "      <td>56 Restaurants within 0.75 miles</td>\n",
       "      <td>11 Attractions within 0.75 miles</td>\n",
       "      <td>39</td>\n",
       "      <td>[]</td>\n",
       "      <td>Phillip Island</td>\n",
       "      <td>74.67</td>\n",
       "      <td>14.67</td>\n",
       "      <td>Victoria 3922 Australia</td>\n",
       "      <td>54</td>\n",
       "    </tr>\n",
       "    <tr>\n",
       "      <th>2756</th>\n",
       "      <td>Apartments In Phillip Island Towers - Block C</td>\n",
       "      <td>127.0</td>\n",
       "      <td>Limited Service Property</td>\n",
       "      <td>Apartments In Phillip Island Towers - Block C</td>\n",
       "      <td>2.0</td>\n",
       "      <td>Block C 59-61 Chapel St, Cowes, Phillip Island...</td>\n",
       "      <td>empty</td>\n",
       "      <td>empty</td>\n",
       "      <td>empty</td>\n",
       "      <td>[]</td>\n",
       "      <td>...</td>\n",
       "      <td>72Somewhat walkableGrade: 72 out of 100</td>\n",
       "      <td>49 Restaurants within 0.3 miles</td>\n",
       "      <td>7 Attractions within 0.3 miles</td>\n",
       "      <td>1</td>\n",
       "      <td>[]</td>\n",
       "      <td>Phillip Island</td>\n",
       "      <td>163.33</td>\n",
       "      <td>23.33</td>\n",
       "      <td>Victoria 3922 Australia</td>\n",
       "      <td>72</td>\n",
       "    </tr>\n",
       "  </tbody>\n",
       "</table>\n",
       "<p>1309 rows × 22 columns</p>\n",
       "</div>"
      ],
      "text/plain": [
       "                                               Name Featured Price  \\\n",
       "0                               Tropicana Motor Inn           84.0   \n",
       "2                             Kaloha Holiday Resort          123.0   \n",
       "4                                       Amaroo Park          106.0   \n",
       "6                              The Waves Apartments          183.0   \n",
       "7                                   Glen Isla House          173.0   \n",
       "...                                             ...            ...   \n",
       "2740                              Dumfries Park B&B          127.0   \n",
       "2741                    First Class Bed & Breakfast          127.0   \n",
       "2742                                Hollywood Hotel          127.0   \n",
       "2753                               Cottages For Two          127.0   \n",
       "2756  Apartments In Phillip Island Towers - Block C          127.0   \n",
       "\n",
       "                      Category                                      Page Name  \\\n",
       "0                       Hostel                            Tropicana Motor Inn   \n",
       "2            Bed and Breakfast                          Kaloha Holiday Resort   \n",
       "4                  Condominium                                    Amaroo Park   \n",
       "6                  Condominium                           The Waves Apartments   \n",
       "7              Specialty Hotel                                Glen Isla House   \n",
       "...                        ...                                            ...   \n",
       "2740         Bed and Breakfast                              Dumfries Park B&B   \n",
       "2741               Small Hotel                    First Class Bed & Breakfast   \n",
       "2742                     Villa                                Hollywood Hotel   \n",
       "2753  Limited Service Property                               Cottages For Two   \n",
       "2756  Limited Service Property  Apartments In Phillip Island Towers - Block C   \n",
       "\n",
       "      Tripadvisor Rating                                            Address  \\\n",
       "0                    4.5  22-26 Osbourne Ave, Cowes, Phillip Island, Vic...   \n",
       "2                    4.5  Cnr Steele and Chapel Streets, Cowes, Phillip ...   \n",
       "4                    4.5  97 Church St, Cowes, Phillip Island, Victoria ...   \n",
       "6                    4.5  No. 1 The Esplanade P.O. Box 108, Cowes, Phill...   \n",
       "7                    5.0  230 Church St, Cowes, Phillip Island, Victoria...   \n",
       "...                  ...                                                ...   \n",
       "2740                 3.0  Church Street, Cowes, Phillip Island, Victoria...   \n",
       "2741                 2.5  648 Ventnor Rd, Ventnor, Phillip Island, Victo...   \n",
       "2742                 1.5  349 Church St, Cowes, Phillip Island, Victoria...   \n",
       "2753                 3.5  226-228 Settlement Rd, Cowes, Phillip Island, ...   \n",
       "2756                 2.0  Block C 59-61 Chapel St, Cowes, Phillip Island...   \n",
       "\n",
       "                                     Property Amenities  \\\n",
       "0     ['Free parking', 'Free internet', 'Pool', 'Bre...   \n",
       "2     ['Free parking', 'Free High Speed Internet (Wi...   \n",
       "4     ['Free parking', 'Free High Speed Internet (Wi...   \n",
       "6     ['Free parking', 'Parking garage', 'Wifi', 'Pa...   \n",
       "7     ['Free parking', 'Secured parking', 'Free High...   \n",
       "...                                                 ...   \n",
       "2740                                              empty   \n",
       "2741                                            ['Spa']   \n",
       "2742  ['Free parking', 'Bar / lounge', 'Children Act...   \n",
       "2753  ['Free parking', 'Free High Speed Internet (Wi...   \n",
       "2756                                              empty   \n",
       "\n",
       "                                          Room Features  \\\n",
       "0     ['Air conditioning', 'Seating area', 'Iron', '...   \n",
       "2     ['Blackout curtains', 'Air conditioning', 'Hou...   \n",
       "4     ['Private balcony', 'Kitchenette', 'Kitchenwar...   \n",
       "6     ['Air conditioning', 'Desk', 'Private balcony'...   \n",
       "7     ['Blackout curtains', 'Air conditioning', 'Fir...   \n",
       "...                                                 ...   \n",
       "2740                                              empty   \n",
       "2741                                              empty   \n",
       "2742                                              empty   \n",
       "2753  ['Soundproof rooms', 'Air conditioning', 'Safe...   \n",
       "2756                                              empty   \n",
       "\n",
       "                                           Room Types  \\\n",
       "0               ['Non-smoking rooms', 'Family rooms']   \n",
       "2     ['Non-smoking rooms', 'Suites', 'Family rooms']   \n",
       "4                               ['Non-smoking rooms']   \n",
       "6       ['Ocean view', 'Non-smoking rooms', 'Suites']   \n",
       "7                               ['Non-smoking rooms']   \n",
       "...                                               ...   \n",
       "2740                                            empty   \n",
       "2741                                            empty   \n",
       "2742                                            empty   \n",
       "2753                            ['Non-smoking rooms']   \n",
       "2756                                            empty   \n",
       "\n",
       "                          Hotel Style  ...  \\\n",
       "0              ['Business', 'Family']  ...   \n",
       "2                       ['Mid-range']  ...   \n",
       "4     ['Family', 'Centrally Located']  ...   \n",
       "6          ['Bay View', 'Great View']  ...   \n",
       "7          ['Hidden Gem', 'Charming']  ...   \n",
       "...                               ...  ...   \n",
       "2740                               []  ...   \n",
       "2741                               []  ...   \n",
       "2742                               []  ...   \n",
       "2753                               []  ...   \n",
       "2756                               []  ...   \n",
       "\n",
       "                              Car/Walkability  \\\n",
       "0     60Somewhat walkableGrade: 60 out of 100   \n",
       "2     60Somewhat walkableGrade: 60 out of 100   \n",
       "4     65Somewhat walkableGrade: 65 out of 100   \n",
       "6     67Somewhat walkableGrade: 67 out of 100   \n",
       "7                                       empty   \n",
       "...                                       ...   \n",
       "2740                                    empty   \n",
       "2741                                    empty   \n",
       "2742                                    empty   \n",
       "2753  54Somewhat walkableGrade: 54 out of 100   \n",
       "2756  72Somewhat walkableGrade: 72 out of 100   \n",
       "\n",
       "                 Restaurants Proximity             Attractions Proximity  \\\n",
       "0      22 Restaurants within 0.3 miles    3 Attractions within 0.3 miles   \n",
       "2      31 Restaurants within 0.3 miles    5 Attractions within 0.3 miles   \n",
       "4      33 Restaurants within 0.3 miles    5 Attractions within 0.3 miles   \n",
       "6      40 Restaurants within 0.3 miles    4 Attractions within 0.3 miles   \n",
       "7                                empty                             empty   \n",
       "...                                ...                               ...   \n",
       "2740                             empty                             empty   \n",
       "2741                             empty                             empty   \n",
       "2742                             empty                             empty   \n",
       "2753  56 Restaurants within 0.75 miles  11 Attractions within 0.75 miles   \n",
       "2756   49 Restaurants within 0.3 miles    7 Attractions within 0.3 miles   \n",
       "\n",
       "     Number of Reviews                                  Covid Precautions  \\\n",
       "0                  373  ['All linens sanitized in high-temperature was...   \n",
       "2                  541     ['Hand sanitizer available to guests & staff']   \n",
       "4                  369                                                 []   \n",
       "6                  275                                                 []   \n",
       "7                  345  ['All linens sanitized in high-temperature was...   \n",
       "...                ...                                                ...   \n",
       "2740                 6                                                 []   \n",
       "2741                 4                                                 []   \n",
       "2742                 7                                                 []   \n",
       "2753                39                                                 []   \n",
       "2756                 1                                                 []   \n",
       "\n",
       "      Travel Destination Restaurants/Mile Attractions/Mile  \\\n",
       "0                  Cowes            73.33             10.0   \n",
       "2                  Cowes           103.33            16.67   \n",
       "4                  Cowes            110.0            16.67   \n",
       "6                  Cowes           133.33            13.33   \n",
       "7                  Cowes            empty            empty   \n",
       "...                  ...              ...              ...   \n",
       "2740      Phillip Island            empty            empty   \n",
       "2741      Phillip Island            empty            empty   \n",
       "2742      Phillip Island            empty            empty   \n",
       "2753      Phillip Island            74.67            14.67   \n",
       "2756      Phillip Island           163.33            23.33   \n",
       "\n",
       "                     Zip Code Walk Score  \n",
       "0     Victoria 3922 Australia         60  \n",
       "2     Victoria 3922 Australia         60  \n",
       "4     Victoria 3922 Australia         65  \n",
       "6     Victoria 3922 Australia         67  \n",
       "7     Victoria 3922 Australia      empty  \n",
       "...                       ...        ...  \n",
       "2740  Victoria 3922 Australia      empty  \n",
       "2741  Victoria 3922 Australia      empty  \n",
       "2742  Victoria 3922 Australia      empty  \n",
       "2753  Victoria 3922 Australia         54  \n",
       "2756  Victoria 3922 Australia         72  \n",
       "\n",
       "[1309 rows x 22 columns]"
      ]
     },
     "execution_count": 152,
     "metadata": {},
     "output_type": "execute_result"
    }
   ],
   "source": [
    "#trying df with prices imputed with median\n",
    "med_impute_df "
   ]
  },
  {
   "cell_type": "code",
   "execution_count": 153,
   "id": "c4010890",
   "metadata": {},
   "outputs": [],
   "source": [
    "med_impute_df  = med_impute_df[med_impute_df['Hotel Star Class'] != 'empty']"
   ]
  },
  {
   "cell_type": "code",
   "execution_count": 154,
   "id": "f6081381",
   "metadata": {},
   "outputs": [
    {
     "name": "stderr",
     "output_type": "stream",
     "text": [
      "/var/folders/__/04d0437x46368yx2gw6qf2km0000gn/T/ipykernel_2768/233611725.py:1: SettingWithCopyWarning: \n",
      "A value is trying to be set on a copy of a slice from a DataFrame.\n",
      "Try using .loc[row_indexer,col_indexer] = value instead\n",
      "\n",
      "See the caveats in the documentation: https://pandas.pydata.org/pandas-docs/stable/user_guide/indexing.html#returning-a-view-versus-a-copy\n",
      "  med_impute_df['Hotel Star Class'] = med_impute_df['Hotel Star Class'].apply(lambda x: float(x))\n"
     ]
    }
   ],
   "source": [
    "med_impute_df['Hotel Star Class'] = med_impute_df['Hotel Star Class'].apply(lambda x: float(x))"
   ]
  },
  {
   "cell_type": "code",
   "execution_count": 155,
   "id": "4d66f2fc",
   "metadata": {},
   "outputs": [
    {
     "name": "stderr",
     "output_type": "stream",
     "text": [
      "/var/folders/__/04d0437x46368yx2gw6qf2km0000gn/T/ipykernel_2768/116351353.py:1: SettingWithCopyWarning: \n",
      "A value is trying to be set on a copy of a slice from a DataFrame.\n",
      "Try using .loc[row_indexer,col_indexer] = value instead\n",
      "\n",
      "See the caveats in the documentation: https://pandas.pydata.org/pandas-docs/stable/user_guide/indexing.html#returning-a-view-versus-a-copy\n",
      "  med_impute_df['Featured Price'] = med_impute_df['Featured Price'].apply(lambda x: round(x))\n"
     ]
    }
   ],
   "source": [
    "med_impute_df['Featured Price'] = med_impute_df['Featured Price'].apply(lambda x: round(x))"
   ]
  },
  {
   "cell_type": "code",
   "execution_count": 156,
   "id": "ceed3fdb",
   "metadata": {},
   "outputs": [],
   "source": [
    "df2 = med_impute_df.loc[:,['Featured Price','Tripadvisor Rating', 'Number of Reviews', 'Hotel Star Class']]"
   ]
  },
  {
   "cell_type": "code",
   "execution_count": 157,
   "id": "cc0e2e40",
   "metadata": {},
   "outputs": [
    {
     "data": {
      "text/plain": [
       "(1057, 4)"
      ]
     },
     "execution_count": 157,
     "metadata": {},
     "output_type": "execute_result"
    }
   ],
   "source": [
    "df2.shape"
   ]
  },
  {
   "cell_type": "code",
   "execution_count": 158,
   "id": "717298b8",
   "metadata": {},
   "outputs": [
    {
     "data": {
      "text/plain": [
       "<seaborn.axisgrid.PairGrid at 0x161330b80>"
      ]
     },
     "execution_count": 158,
     "metadata": {},
     "output_type": "execute_result"
    },
    {
     "data": {
      "image/png": "[encoded data removed]",
      "text/plain": [
       "<Figure size 720x720 with 20 Axes>"
      ]
     },
     "metadata": {
      "needs_background": "light"
     },
     "output_type": "display_data"
    }
   ],
   "source": [
    "sns.pairplot(df2)\n",
    "#the price vs. rating relationship looks very similar to the other one"
   ]
  },
  {
   "cell_type": "code",
   "execution_count": 159,
   "id": "36123907",
   "metadata": {},
   "outputs": [
    {
     "data": {
      "text/plain": [
       "<AxesSubplot:>"
      ]
     },
     "execution_count": 159,
     "metadata": {},
     "output_type": "execute_result"
    },
    {
     "data": {
      "image/png": "[encoded data removed]",
      "text/plain": [
       "<Figure size 432x288 with 2 Axes>"
      ]
     },
     "metadata": {
      "needs_background": "light"
     },
     "output_type": "display_data"
    }
   ],
   "source": [
    "\n",
    "sns.heatmap(df2.corr(), annot=True)"
   ]
  },
  {
   "cell_type": "code",
   "execution_count": 160,
   "id": "f739d884",
   "metadata": {},
   "outputs": [
    {
     "name": "stdout",
     "output_type": "stream",
     "text": [
      "OLS using median-imputed price\n",
      "Train:  0.016\n",
      "Val:  0.029\n"
     ]
    }
   ],
   "source": [
    "X2 = df2.drop(columns=['Tripadvisor Rating'])\n",
    "y2 = df2['Tripadvisor Rating']\n",
    "\n",
    "# Split into 60 train/20 val/20 test\n",
    "X2, X_test, y2, y_test = train_test_split(X2, y2, test_size=0.2, random_state=42)\n",
    "X_train, X_val, y_train, y_val = train_test_split(X2, y2, test_size=0.25, random_state=42)\n",
    "\n",
    "lr = LinearRegression()\n",
    "lr.fit(X_train,y_train)\n",
    "print('OLS using median-imputed price')\n",
    "print('Train: ', lr.score(X_train,y_train).round(3))\n",
    "print('Val: ', lr.score(X_val,y_val).round(3))"
   ]
  },
  {
   "cell_type": "code",
   "execution_count": 161,
   "id": "8b9d86d3",
   "metadata": {
    "scrolled": true
   },
   "outputs": [
    {
     "data": {
      "text/plain": [
       "(array([ 30.,   4.,  11.,  36.,   0.,  74., 144., 305., 346., 107.]),\n",
       " array([1. , 1.4, 1.8, 2.2, 2.6, 3. , 3.4, 3.8, 4.2, 4.6, 5. ]),\n",
       " <BarContainer object of 10 artists>)"
      ]
     },
     "execution_count": 161,
     "metadata": {},
     "output_type": "execute_result"
    },
    {
     "data": {
      "image/png": "[encoded data removed]",
      "text/plain": [
       "<Figure size 432x288 with 1 Axes>"
      ]
     },
     "metadata": {
      "needs_background": "light"
     },
     "output_type": "display_data"
    }
   ],
   "source": [
    "import matplotlib.pyplot as plt\n",
    "plt.hist(lr_impute_df['Tripadvisor Rating'])"
   ]
  },
  {
   "cell_type": "code",
   "execution_count": 162,
   "id": "75b6a34d",
   "metadata": {
    "scrolled": true
   },
   "outputs": [
    {
     "data": {
      "text/plain": [
       "(array([ 30.,   0.,   4.,   0.,  11.,  36.,  74., 144., 305., 453.]),\n",
       " array([0.        , 0.16094379, 0.32188758, 0.48283137, 0.64377516,\n",
       "        0.80471896, 0.96566275, 1.12660654, 1.28755033, 1.44849412,\n",
       "        1.60943791]),\n",
       " <BarContainer object of 10 artists>)"
      ]
     },
     "execution_count": 162,
     "metadata": {},
     "output_type": "execute_result"
    },
    {
     "data": {
      "image/png": "[encoded data removed]",
      "text/plain": [
       "<Figure size 432x288 with 1 Axes>"
      ]
     },
     "metadata": {
      "needs_background": "light"
     },
     "output_type": "display_data"
    }
   ],
   "source": [
    "import scipy.stats as stats\n",
    "#log transform\n",
    "plt.hist(stats.boxcox(y1, lmbda=0))"
   ]
  },
  {
   "cell_type": "code",
   "execution_count": 163,
   "id": "a15b41cd",
   "metadata": {},
   "outputs": [
    {
     "name": "stdout",
     "output_type": "stream",
     "text": [
      "<class 'pandas.core.frame.DataFrame'>\n",
      "Int64Index: 1057 entries, 0 to 2753\n",
      "Data columns (total 22 columns):\n",
      " #   Column                 Non-Null Count  Dtype  \n",
      "---  ------                 --------------  -----  \n",
      " 0   Name                   1057 non-null   object \n",
      " 1   Featured Price         1057 non-null   int64  \n",
      " 2   Category               1057 non-null   object \n",
      " 3   Page Name              1057 non-null   object \n",
      " 4   Tripadvisor Rating     1057 non-null   float64\n",
      " 5   Address                1057 non-null   object \n",
      " 6   Property Amenities     1057 non-null   object \n",
      " 7   Room Features          1057 non-null   object \n",
      " 8   Room Types             1057 non-null   object \n",
      " 9   Hotel Style            1057 non-null   object \n",
      " 10  Languages              1057 non-null   object \n",
      " 11  Hotel Star Class       1057 non-null   float64\n",
      " 12  Car/Walkability        1057 non-null   object \n",
      " 13  Restaurants Proximity  1057 non-null   object \n",
      " 14  Attractions Proximity  1057 non-null   object \n",
      " 15  Number of Reviews      1057 non-null   int64  \n",
      " 16  Covid Precautions      1057 non-null   object \n",
      " 17  Travel Destination     1057 non-null   object \n",
      " 18  Restaurants/Mile       1057 non-null   object \n",
      " 19  Attractions/Mile       1057 non-null   object \n",
      " 20  Zip Code               1057 non-null   object \n",
      " 21  Walk Score             1057 non-null   object \n",
      "dtypes: float64(2), int64(2), object(18)\n",
      "memory usage: 222.2+ KB\n"
     ]
    }
   ],
   "source": [
    "lr_impute_df.info()"
   ]
  }
 ],
 "metadata": {
  "kernelspec": {
   "display_name": "Python 3 (ipykernel)",
   "language": "python",
   "name": "python3"
  },
  "language_info": {
   "codemirror_mode": {
    "name": "ipython",
    "version": 3
   },
   "file_extension": ".py",
   "mimetype": "text/x-python",
   "name": "python",
   "nbconvert_exporter": "python",
   "pygments_lexer": "ipython3",
   "version": "3.9.7"
  }
 },
 "nbformat": 4,
 "nbformat_minor": 5
}
